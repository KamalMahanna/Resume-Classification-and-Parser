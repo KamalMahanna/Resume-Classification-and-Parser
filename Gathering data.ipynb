{
 "cells": [
  {
   "cell_type": "code",
   "execution_count": 1,
   "metadata": {},
   "outputs": [],
   "source": [
    "import os\n",
    "import textract\n",
    "import pandas as pd"
   ]
  },
  {
   "attachments": {},
   "cell_type": "markdown",
   "metadata": {},
   "source": [
    "# Data Gathering and Preprocessing"
   ]
  },
  {
   "cell_type": "code",
   "execution_count": 2,
   "metadata": {},
   "outputs": [
    {
     "data": {
      "text/plain": [
       "['Requirement document- Document Classification (1).docx (1).pdf',\n",
       " 'main.ipynb',\n",
       " 'Gathering data.ipynb',\n",
       " 'Resumes']"
      ]
     },
     "execution_count": 2,
     "metadata": {},
     "output_type": "execute_result"
    }
   ],
   "source": [
    "# All files in currnet working directory\n",
    "os.listdir()"
   ]
  },
  {
   "cell_type": "code",
   "execution_count": 2,
   "metadata": {},
   "outputs": [
    {
     "data": {
      "text/plain": [
       "'/home/k/Desktop/Project/Resume Classification System'"
      ]
     },
     "execution_count": 2,
     "metadata": {},
     "output_type": "execute_result"
    }
   ],
   "source": [
    "# Print current working directory\n",
    "os.getcwd()"
   ]
  },
  {
   "cell_type": "code",
   "execution_count": 4,
   "metadata": {},
   "outputs": [
    {
     "data": {
      "text/plain": [
       "['React Developer_Haripriya.docx',\n",
       " 'React Developer_Naveen sadhu.docx',\n",
       " 'Reactjs Developer_MD Khizaruddin Rauf _Musquare Technologies.docx',\n",
       " 'Internship_Susovan Bag_Musquare Technologies.docx',\n",
       " 'Internship_Ravali_Musquare Technologies (1).docx',\n",
       " 'React Developer_Pragnya.docx',\n",
       " 'Reactjs Developer_M Lokesh.docx',\n",
       " 'Reactjs Developer_Prabakaran_Musquare Technologies.pdf',\n",
       " 'Reactjs Developer_Pranish Sonone_Musquare Technologies.docx',\n",
       " 'React Developer_Sarala Madasu-converted.docx',\n",
       " 'React Developer_Kamalakar Reddy.docx',\n",
       " 'React JS Developer_Venkatalakshmi (1)-converted.docx',\n",
       " 'React JS Developer_AnjaniPriyadarshini.doc',\n",
       " 'React Developer_Vinay Reddy.doc',\n",
       " 'Reactjs Developer_Ranga Gaganam_Musquare Technologies.docx',\n",
       " 'Reactjs Developer_M Lokesh Babu_Musquare Technologies.docx',\n",
       " 'React Developer_Thirupathiamma.docx',\n",
       " 'React JS Developer_KotaniDurgaprasad[3_1] (1)-converted.docx',\n",
       " 'React Developer_PavasGoswami.doc',\n",
       " 'Reactjs Developer_Shaik Abdul Sharuk_Musquare Technologies.docx',\n",
       " 'React Dev_Krishna Kanth.docx',\n",
       " 'React Developer_Deepakreddy.docx',\n",
       " 'React Dev_Krishna Kanth_Musquare Technologies.docx',\n",
       " 'SQL Developer Lightning insight',\n",
       " 'Peoplesoft resumes',\n",
       " 'workday resumes',\n",
       " 'Reactjs Developer_kambala sai surendra_Musquare Technologies.docx']"
      ]
     },
     "execution_count": 4,
     "metadata": {},
     "output_type": "execute_result"
    }
   ],
   "source": [
    "# all files in Resume Folder\n",
    "os.listdir(f\"{os.getcwd()}/Resumes\")"
   ]
  },
  {
   "attachments": {},
   "cell_type": "markdown",
   "metadata": {},
   "source": [
    "Seems like those .doc/.docx/.pdf files are resumes of Reactjs Developer"
   ]
  },
  {
   "cell_type": "code",
   "execution_count": 6,
   "metadata": {},
   "outputs": [],
   "source": [
    "# We can filter files and folder\n",
    "resume_files=[x for x in os.listdir(f\"{os.getcwd()}/Resumes\") if ('.' in x) and ('Intern' not in x)]"
   ]
  },
  {
   "cell_type": "code",
   "execution_count": 7,
   "metadata": {},
   "outputs": [
    {
     "data": {
      "text/plain": [
       "['React Developer_Haripriya.docx',\n",
       " 'React Developer_Naveen sadhu.docx',\n",
       " 'Reactjs Developer_MD Khizaruddin Rauf _Musquare Technologies.docx',\n",
       " 'React Developer_Pragnya.docx',\n",
       " 'Reactjs Developer_M Lokesh.docx',\n",
       " 'Reactjs Developer_Prabakaran_Musquare Technologies.pdf',\n",
       " 'Reactjs Developer_Pranish Sonone_Musquare Technologies.docx',\n",
       " 'React Developer_Sarala Madasu-converted.docx',\n",
       " 'React Developer_Kamalakar Reddy.docx',\n",
       " 'React JS Developer_Venkatalakshmi (1)-converted.docx',\n",
       " 'React JS Developer_AnjaniPriyadarshini.doc',\n",
       " 'React Developer_Vinay Reddy.doc',\n",
       " 'Reactjs Developer_Ranga Gaganam_Musquare Technologies.docx',\n",
       " 'Reactjs Developer_M Lokesh Babu_Musquare Technologies.docx',\n",
       " 'React Developer_Thirupathiamma.docx',\n",
       " 'React JS Developer_KotaniDurgaprasad[3_1] (1)-converted.docx',\n",
       " 'React Developer_PavasGoswami.doc',\n",
       " 'Reactjs Developer_Shaik Abdul Sharuk_Musquare Technologies.docx',\n",
       " 'React Dev_Krishna Kanth.docx',\n",
       " 'React Developer_Deepakreddy.docx',\n",
       " 'React Dev_Krishna Kanth_Musquare Technologies.docx',\n",
       " 'Reactjs Developer_kambala sai surendra_Musquare Technologies.docx']"
      ]
     },
     "execution_count": 7,
     "metadata": {},
     "output_type": "execute_result"
    }
   ],
   "source": [
    "resume_files"
   ]
  },
  {
   "cell_type": "code",
   "execution_count": 3,
   "metadata": {},
   "outputs": [],
   "source": [
    "# We will move those resumes to another folder named 'Reactjs'\n",
    "\n",
    "src_dir = f\"{os.getcwd()}/Resumes\"\n",
    "dst_dir = f'{src_dir}/Reactjs'"
   ]
  },
  {
   "cell_type": "code",
   "execution_count": 9,
   "metadata": {},
   "outputs": [],
   "source": [
    "# creating a new directory\n",
    "os.makedirs(dst_dir)"
   ]
  },
  {
   "cell_type": "code",
   "execution_count": 10,
   "metadata": {},
   "outputs": [],
   "source": [
    "# moving all those files    \n",
    "for i in resume_files:\n",
    "    os.rename(src=f'{src_dir}/{i}',dst=f'{dst_dir}/{i}')           # os.replace may work"
   ]
  },
  {
   "attachments": {},
   "cell_type": "markdown",
   "metadata": {},
   "source": [
    "All files successfully moved to destination(Reactjs) folder.<br>\n",
    "Lets see how we can read doc/pdf files in python"
   ]
  },
  {
   "cell_type": "code",
   "execution_count": 11,
   "metadata": {},
   "outputs": [
    {
     "data": {
      "text/plain": [
       "['Internship_Susovan Bag_Musquare Technologies.docx',\n",
       " 'Internship_Ravali_Musquare Technologies (1).docx',\n",
       " 'SQL Developer Lightning insight',\n",
       " 'Peoplesoft resumes',\n",
       " 'workday resumes',\n",
       " 'Reactjs']"
      ]
     },
     "execution_count": 11,
     "metadata": {},
     "output_type": "execute_result"
    }
   ],
   "source": [
    "os.listdir(src_dir)"
   ]
  },
  {
   "cell_type": "markdown",
   "metadata": {},
   "source": [
    "These are the working directories we have. <br>\n",
    "Lets make a dataframe to store all those resume texts and will label these acoording to the folder names.\n",
    "Also we are storing file types."
   ]
  },
  {
   "cell_type": "code",
   "execution_count": 12,
   "metadata": {},
   "outputs": [],
   "source": [
    "# Creating a DataFrame and defining required columns\n",
    "resumes_df = pd.DataFrame(columns=['Texts','Category','Doc Type'])"
   ]
  },
  {
   "cell_type": "code",
   "execution_count": 13,
   "metadata": {},
   "outputs": [],
   "source": [
    "for folder in os.listdir(src_dir):                                  # Iterating through each resume folder\n",
    "    \n",
    "    if ('.' in folder) | ('Validation' in folder):                  # Filtering only folders also we will make another validation set\n",
    "        continue\n",
    "    for resume in os.listdir(f\"{src_dir}/{folder}\"):                # now each resume in that folder\n",
    "        \n",
    "        txts = textract.process(f\"{src_dir}/{folder}/{resume}\")     # This will extract all the texts from the resume\n",
    "        txts=txts.decode('UTF-8')                                   # Decoding to unicode characters\n",
    "        # print(txts)\n",
    "        resumes_df.loc[len(resumes_df)] = [\n",
    "                                           txts,                    # storing all texts\n",
    "                                           folder,                  # storing the folder name, which will be our category\n",
    "                                           resume.split('.')[-1]    # This is the type of document\n",
    "                                           ]"
   ]
  },
  {
   "cell_type": "code",
   "execution_count": 14,
   "metadata": {},
   "outputs": [
    {
     "data": {
      "text/html": [
       "<div>\n",
       "<style scoped>\n",
       "    .dataframe tbody tr th:only-of-type {\n",
       "        vertical-align: middle;\n",
       "    }\n",
       "\n",
       "    .dataframe tbody tr th {\n",
       "        vertical-align: top;\n",
       "    }\n",
       "\n",
       "    .dataframe thead th {\n",
       "        text-align: right;\n",
       "    }\n",
       "</style>\n",
       "<table border=\"1\" class=\"dataframe\">\n",
       "  <thead>\n",
       "    <tr style=\"text-align: right;\">\n",
       "      <th></th>\n",
       "      <th>Texts</th>\n",
       "      <th>Category</th>\n",
       "      <th>Doc Type</th>\n",
       "    </tr>\n",
       "  </thead>\n",
       "  <tbody>\n",
       "    <tr>\n",
       "      <th>0</th>\n",
       "      <td>ANIL KUMAR MADDUKURI  \\t\\t\\n\\nSQL &amp; MSBI Devel...</td>\n",
       "      <td>SQL Developer Lightning insight</td>\n",
       "      <td>docx</td>\n",
       "    </tr>\n",
       "    <tr>\n",
       "      <th>1</th>\n",
       "      <td>RAJU PAVANA KUMARI\\n\\n\\n\\n\\t\\n\\n\\tProfessional...</td>\n",
       "      <td>SQL Developer Lightning insight</td>\n",
       "      <td>docx</td>\n",
       "    </tr>\n",
       "    <tr>\n",
       "      <th>2</th>\n",
       "      <td>SQL AND MSBI DEVELOPER\\n\\nSQL AND MSBI DEVELOP...</td>\n",
       "      <td>SQL Developer Lightning insight</td>\n",
       "      <td>docx</td>\n",
       "    </tr>\n",
       "    <tr>\n",
       "      <th>3</th>\n",
       "      <td>\\n\\nCareer objective\\n\\n\\nA rewarding opportun...</td>\n",
       "      <td>SQL Developer Lightning insight</td>\n",
       "      <td>doc</td>\n",
       "    </tr>\n",
       "    <tr>\n",
       "      <th>4</th>\n",
       "      <td>\\n                                       SQL S...</td>\n",
       "      <td>SQL Developer Lightning insight</td>\n",
       "      <td>doc</td>\n",
       "    </tr>\n",
       "  </tbody>\n",
       "</table>\n",
       "</div>"
      ],
      "text/plain": [
       "                                               Texts  \\\n",
       "0  ANIL KUMAR MADDUKURI  \\t\\t\\n\\nSQL & MSBI Devel...   \n",
       "1  RAJU PAVANA KUMARI\\n\\n\\n\\n\\t\\n\\n\\tProfessional...   \n",
       "2  SQL AND MSBI DEVELOPER\\n\\nSQL AND MSBI DEVELOP...   \n",
       "3  \\n\\nCareer objective\\n\\n\\nA rewarding opportun...   \n",
       "4  \\n                                       SQL S...   \n",
       "\n",
       "                          Category Doc Type  \n",
       "0  SQL Developer Lightning insight     docx  \n",
       "1  SQL Developer Lightning insight     docx  \n",
       "2  SQL Developer Lightning insight     docx  \n",
       "3  SQL Developer Lightning insight      doc  \n",
       "4  SQL Developer Lightning insight      doc  "
      ]
     },
     "execution_count": 14,
     "metadata": {},
     "output_type": "execute_result"
    }
   ],
   "source": [
    "resumes_df.head()"
   ]
  },
  {
   "cell_type": "code",
   "execution_count": null,
   "metadata": {},
   "outputs": [],
   "source": [
    "# storing to csv file\n",
    "resumes_df.to_csv('resumes_df.csv',index=False)"
   ]
  },
  {
   "cell_type": "code",
   "execution_count": 23,
   "metadata": {},
   "outputs": [
    {
     "data": {
      "text/plain": [
       "'/home/k/Desktop/Project/Resume Classification System/Resumes'"
      ]
     },
     "execution_count": 23,
     "metadata": {},
     "output_type": "execute_result"
    }
   ],
   "source": [
    "# Also we have downloaded some resumes from the web to validate our model\n",
    "src_dir"
   ]
  },
  {
   "cell_type": "code",
   "execution_count": 30,
   "metadata": {},
   "outputs": [],
   "source": [
    "validation_df=pd.DataFrame(columns=['Texts','Category'])"
   ]
  },
  {
   "cell_type": "code",
   "execution_count": 31,
   "metadata": {},
   "outputs": [
    {
     "data": {
      "text/html": [
       "<div>\n",
       "<style scoped>\n",
       "    .dataframe tbody tr th:only-of-type {\n",
       "        vertical-align: middle;\n",
       "    }\n",
       "\n",
       "    .dataframe tbody tr th {\n",
       "        vertical-align: top;\n",
       "    }\n",
       "\n",
       "    .dataframe thead th {\n",
       "        text-align: right;\n",
       "    }\n",
       "</style>\n",
       "<table border=\"1\" class=\"dataframe\">\n",
       "  <thead>\n",
       "    <tr style=\"text-align: right;\">\n",
       "      <th></th>\n",
       "      <th>Texts</th>\n",
       "      <th>Category</th>\n",
       "    </tr>\n",
       "  </thead>\n",
       "  <tbody>\n",
       "  </tbody>\n",
       "</table>\n",
       "</div>"
      ],
      "text/plain": [
       "Empty DataFrame\n",
       "Columns: [Texts, Category]\n",
       "Index: []"
      ]
     },
     "execution_count": 31,
     "metadata": {},
     "output_type": "execute_result"
    }
   ],
   "source": [
    "validation_df"
   ]
  },
  {
   "cell_type": "code",
   "execution_count": 32,
   "metadata": {},
   "outputs": [],
   "source": [
    "val_dir=src_dir+'/Validation Resume'"
   ]
  },
  {
   "cell_type": "code",
   "execution_count": 33,
   "metadata": {},
   "outputs": [
    {
     "data": {
      "text/plain": [
       "['React Developer Resume.docx',\n",
       " '5. React Front End Developer.pdf',\n",
       " 'react-front-end-developer2 - Template 14.pdf',\n",
       " 'sql-server-developer - Template 16.pdf',\n",
       " 'junior-sql-developer2  - Template 14.pdf',\n",
       " '2. Junior SQL Developer.pdf']"
      ]
     },
     "execution_count": 33,
     "metadata": {},
     "output_type": "execute_result"
    }
   ],
   "source": [
    "os.listdir(val_dir)"
   ]
  },
  {
   "cell_type": "code",
   "execution_count": 34,
   "metadata": {},
   "outputs": [],
   "source": [
    "for resume in os.listdir(val_dir):\n",
    "    txts = textract.process(f\"{val_dir}/{resume}\")    \n",
    "    txts=txts.decode('UTF-8')                                   \n",
    "    # print(txts)\n",
    "    validation_df.loc[len(validation_df)] = [\n",
    "                                             txts,\n",
    "                                             'Reactjs' if 'eact' in resume else 'SQL'              \n",
    "                                                 \n",
    "                                        ]"
   ]
  },
  {
   "cell_type": "code",
   "execution_count": 35,
   "metadata": {},
   "outputs": [
    {
     "data": {
      "text/html": [
       "<div>\n",
       "<style scoped>\n",
       "    .dataframe tbody tr th:only-of-type {\n",
       "        vertical-align: middle;\n",
       "    }\n",
       "\n",
       "    .dataframe tbody tr th {\n",
       "        vertical-align: top;\n",
       "    }\n",
       "\n",
       "    .dataframe thead th {\n",
       "        text-align: right;\n",
       "    }\n",
       "</style>\n",
       "<table border=\"1\" class=\"dataframe\">\n",
       "  <thead>\n",
       "    <tr style=\"text-align: right;\">\n",
       "      <th></th>\n",
       "      <th>Texts</th>\n",
       "      <th>Category</th>\n",
       "    </tr>\n",
       "  </thead>\n",
       "  <tbody>\n",
       "    <tr>\n",
       "      <th>0</th>\n",
       "      <td>Jake Wilson\\n\\n(555) 555-5555 | jake@email.com...</td>\n",
       "      <td>Reactjs</td>\n",
       "    </tr>\n",
       "    <tr>\n",
       "      <th>1</th>\n",
       "      <td>FIRST LAST\\nBay Area, California • +1-234-456-...</td>\n",
       "      <td>Reactjs</td>\n",
       "    </tr>\n",
       "    <tr>\n",
       "      <th>2</th>\n",
       "      <td>First Last\\nReact Front End Developer\\nAugusta...</td>\n",
       "      <td>Reactjs</td>\n",
       "    </tr>\n",
       "    <tr>\n",
       "      <th>3</th>\n",
       "      <td>First Last\\nSQL Server Developer\\nBay Area, Ca...</td>\n",
       "      <td>SQL</td>\n",
       "    </tr>\n",
       "    <tr>\n",
       "      <th>4</th>\n",
       "      <td>First Last\\nJunior SQL Developer\\nBurlington, ...</td>\n",
       "      <td>SQL</td>\n",
       "    </tr>\n",
       "    <tr>\n",
       "      <th>5</th>\n",
       "      <td>FIRST LAST\\nBay Area, California • +1-234-456-...</td>\n",
       "      <td>SQL</td>\n",
       "    </tr>\n",
       "  </tbody>\n",
       "</table>\n",
       "</div>"
      ],
      "text/plain": [
       "                                               Texts Category\n",
       "0  Jake Wilson\\n\\n(555) 555-5555 | jake@email.com...  Reactjs\n",
       "1  FIRST LAST\\nBay Area, California • +1-234-456-...  Reactjs\n",
       "2  First Last\\nReact Front End Developer\\nAugusta...  Reactjs\n",
       "3  First Last\\nSQL Server Developer\\nBay Area, Ca...      SQL\n",
       "4  First Last\\nJunior SQL Developer\\nBurlington, ...      SQL\n",
       "5  FIRST LAST\\nBay Area, California • +1-234-456-...      SQL"
      ]
     },
     "execution_count": 35,
     "metadata": {},
     "output_type": "execute_result"
    }
   ],
   "source": [
    "validation_df"
   ]
  },
  {
   "cell_type": "code",
   "execution_count": 36,
   "metadata": {},
   "outputs": [],
   "source": [
    "validation_df.to_csv('validation_df.csv',index=False)"
   ]
  },
  {
   "cell_type": "code",
   "execution_count": null,
   "metadata": {},
   "outputs": [],
   "source": []
  }
 ],
 "metadata": {
  "kernelspec": {
   "display_name": "base",
   "language": "python",
   "name": "python3"
  },
  "language_info": {
   "codemirror_mode": {
    "name": "ipython",
    "version": 3
   },
   "file_extension": ".py",
   "mimetype": "text/x-python",
   "name": "python",
   "nbconvert_exporter": "python",
   "pygments_lexer": "ipython3",
   "version": "3.10.10"
  },
  "orig_nbformat": 4,
  "vscode": {
   "interpreter": {
    "hash": "e15bf59aef532841d5d8603ea1a22129f79e1fec41d98e3d12d16b1831fcfff5"
   }
  }
 },
 "nbformat": 4,
 "nbformat_minor": 2
}
